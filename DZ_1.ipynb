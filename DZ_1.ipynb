{
  "nbformat": 4,
  "nbformat_minor": 0,
  "metadata": {
    "colab": {
      "provenance": [],
      "authorship_tag": "ABX9TyM/8zLFDheIHkNHryYhCGXg",
      "include_colab_link": true
    },
    "kernelspec": {
      "name": "python3",
      "display_name": "Python 3"
    },
    "language_info": {
      "name": "python"
    }
  },
  "cells": [
    {
      "cell_type": "markdown",
      "metadata": {
        "id": "view-in-github",
        "colab_type": "text"
      },
      "source": [
        "<a href=\"https://colab.research.google.com/github/alkinatalya/-1/blob/main/DZ_1.ipynb\" target=\"_parent\"><img src=\"https://colab.research.google.com/assets/colab-badge.svg\" alt=\"Open In Colab\"/></a>"
      ]
    },
    {
      "cell_type": "markdown",
      "source": [
        "## **Условие 1**"
      ],
      "metadata": {
        "id": "yCsH730T1NTS"
      }
    },
    {
      "cell_type": "markdown",
      "source": [
        "## **Условие 2**"
      ],
      "metadata": {
        "id": "c6ypfrL91eQv"
      }
    },
    {
      "cell_type": "code",
      "source": [
        "fruits = {\n",
        "      'банан': 15, \n",
        "      'апельсин': 5, \n",
        "      'яблоко': 8, \n",
        "      'киви': 10}\n",
        "def quantity(fruits): \n",
        "  sum = 0      \n",
        "  for value in  fruits.values():\n",
        "    sum = sum + value\n",
        "  return sum  \n",
        "  #print(value)\n",
        "print('Общее количество фруктов на склале:', quantity(fruits))\n"
      ],
      "metadata": {
        "colab": {
          "base_uri": "https://localhost:8080/"
        },
        "id": "0NJTnERz1nwB",
        "outputId": "b6caac59-6bbf-4a41-ca22-02acb988677c"
      },
      "execution_count": null,
      "outputs": [
        {
          "output_type": "stream",
          "name": "stdout",
          "text": [
            "Общее количество фруктов на склале: 38\n"
          ]
        }
      ]
    },
    {
      "cell_type": "markdown",
      "source": [
        "## **Условие 3**"
      ],
      "metadata": {
        "id": "GBWVlmjuBHbb"
      }
    },
    {
      "cell_type": "code",
      "source": [
        "list = [100, 125, -90, 345, 655, -1, 0, 200]\n",
        "new_list = []\n",
        "for i in list:\n",
        "  if i >= 0:\n",
        "    new_list.append(i)\n",
        "#print(new_list)\n",
        "\n",
        "sum = 0\n",
        "for item in new_list:\n",
        "    sum += item\n",
        "print(sum) "
      ],
      "metadata": {
        "colab": {
          "base_uri": "https://localhost:8080/"
        },
        "id": "U0Jvpwy9LhQ8",
        "outputId": "8d8c51a9-0655-44d4-99c1-f2baf8fdd694"
      },
      "execution_count": null,
      "outputs": [
        {
          "output_type": "stream",
          "name": "stdout",
          "text": [
            "[100, 125, 345, 655, 0, 200]\n",
            "1425\n"
          ]
        }
      ]
    },
    {
      "cell_type": "markdown",
      "source": [
        "## **Условие 4**"
      ],
      "metadata": {
        "id": "vaSglJPIxRcA"
      }
    },
    {
      "cell_type": "markdown",
      "source": [
        "## **Уславие 4.1**"
      ],
      "metadata": {
        "id": "jP7Hi3ojz0FK"
      }
    },
    {
      "cell_type": "code",
      "source": [
        "date = ['2021-09-14', '2021-12-15', '2021-09-08', '2021-12-05', '2021-10-09', '2021-09-30', '2021-12-22', '2021-11-29',\n",
        "        '2021-12-24', '2021-11-26', '2021-10-27', '2021-12-18', '2021-11-09', '2021-11-23', '2021-09-27', '2021-10-02',\n",
        "        '2021-12-27', '2021-09-20', '2021-12-13', '2021-11-01', '2021-11-09', '2021-12-06', '2021-12-08', '2021-10-09',\n",
        "        '2021-10-31', '2021-09-30', '2021-11-09', '2021-12-13', '2021-10-26', '2021-12-09']\n",
        "money = [1270, 8413, 9028, 3703, 5739, 4095, 295, 4944, 5723, 3701, 4471, 651, 7037, 4274, 6275, 4988, 6930, 2971, 6592,\n",
        "         2004, 2822, 519, 3406, 2732, 5015, 2008, 316, 6333, 5700, 2887]\n",
        " \n",
        "print(sum([m for d, m in zip(date, money) if d[5:7] == \"11\"]))"
      ],
      "metadata": {
        "colab": {
          "base_uri": "https://localhost:8080/"
        },
        "id": "RiJjrti_xfHU",
        "outputId": "9701fef4-c668-45e2-cb11-227124c9b93b"
      },
      "execution_count": 1,
      "outputs": [
        {
          "output_type": "stream",
          "name": "stdout",
          "text": [
            "25098\n"
          ]
        }
      ]
    },
    {
      "cell_type": "markdown",
      "source": [
        "## **Условие 4.2**"
      ],
      "metadata": {
        "id": "u_-jk1flzc-e"
      }
    },
    {
      "cell_type": "code",
      "source": [
        "date = ['2021-09-14', '2021-12-15', '2021-09-08', '2021-12-05', '2021-10-09', '2021-09-30', '2021-12-22', '2021-11-29',\n",
        "        '2021-12-24', '2021-11-26', '2021-10-27', '2021-12-18', '2021-11-09', '2021-11-23', '2021-09-27', '2021-10-02',\n",
        "        '2021-12-27', '2021-09-20', '2021-12-13', '2021-11-01', '2021-11-09', '2021-12-06', '2021-12-08', '2021-10-09',\n",
        "        '2021-10-31', '2021-09-30', '2021-11-09', '2021-12-13', '2021-10-26', '2021-12-09']\n",
        "money = [1270, 8413, 9028, 3703, 5739, 4095, 295, 4944, 5723, 3701, 4471, 651, 7037, 4274, 6275, 4988, 6930, 2971, 6592,\n",
        "         2004, 2822, 519, 3406, 2732, 5015, 2008, 316, 6333, 5700, 2887]\n",
        " \n",
        " \n",
        "def sum_in_month(date: list, money: list) -> dict:\n",
        "    res = {}\n",
        "    for d, m in zip(date, money):\n",
        "        if d[5:7] in res.keys():\n",
        "            res[d[5:7]] = res[d[5:7]] + m\n",
        "        else:\n",
        "            res[d[5:7]] = m\n",
        "    return res\n",
        " \n",
        "print(sum_in_month(date, money))"
      ],
      "metadata": {
        "colab": {
          "base_uri": "https://localhost:8080/"
        },
        "id": "HkCS5AaBzlOw",
        "outputId": "7f01ff9a-fd3c-4599-a8e3-d239f70b223d"
      },
      "execution_count": 2,
      "outputs": [
        {
          "output_type": "stream",
          "name": "stdout",
          "text": [
            "{'09': 25647, '12': 45452, '10': 28645, '11': 25098}\n"
          ]
        }
      ]
    }
  ]
}